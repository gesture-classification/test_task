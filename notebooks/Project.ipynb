{
 "cells": [
  {
   "cell_type": "code",
   "execution_count": 1,
   "metadata": {},
   "outputs": [],
   "source": [
    "# Импортируем библиотеки\n",
    "import mne\n",
    "import numpy as np\n",
    "import pandas as pd\n",
    "import pickle\n",
    "from zipfile import ZipFile\n",
    "\n",
    "# графические библиотеки\n",
    "from matplotlib import pyplot as plt\n",
    "%matplotlib widget\n",
    "import os\n",
    "\n",
    "\n",
    "# графические библиотеки\n",
    "import matplotlib.pyplot as plt\n",
    "import seaborn as sns\n",
    "import plotly.express as px\n",
    "import plotly.graph_objects as go\n",
    "from plotly.subplots import make_subplots\n",
    "\n",
    "# библиотеки машинного обучения\n",
    "from sklearn.metrics import f1_score\n",
    "from sklearn.model_selection import StratifiedKFold, cross_validate\n",
    "from sklearn.linear_model import LogisticRegression\n",
    "from sklearn.preprocessing import StandardScaler\n",
    "\n",
    "# отображать по умолчанию длину дата Датафрейма\n",
    "pd.set_option(\"display.max_rows\", 9, \"display.max_columns\", 9)\n",
    "\n",
    "# библиотека взаимодействия с интерпретатором\n",
    "import sys\n",
    "if not sys.warnoptions:\n",
    "    import warnings\n",
    "    warnings.simplefilter(\"ignore\")\n",
    "import os\n",
    "\n",
    "# Hide output\n",
    "from IPython.display import clear_output"
   ]
  },
  {
   "cell_type": "code",
   "execution_count": null,
   "metadata": {},
   "outputs": [],
   "source": [
    "# Установка версий программных пакетов\n",
    "#!pip install -qr ../requirements.txt"
   ]
  },
  {
   "cell_type": "code",
   "execution_count": 2,
   "metadata": {},
   "outputs": [],
   "source": [
    "# Библиотека вызова функций, специально разработанных для данного ноутбука\n",
    "sys.path.insert(1, '../')\n",
    "\n",
    "from utils.functions import config_reader \n",
    "\n",
    "# import constants from the config\n",
    "config = config_reader('../config/data_config.json') \n",
    "\n",
    "# path for data\n",
    "PATH = config.PATH\n",
    "\n",
    "# path for models\n",
    "PATH_FOR_MODEL = config.PATH_FOR_MODEL"
   ]
  },
  {
   "cell_type": "code",
   "execution_count": 3,
   "metadata": {},
   "outputs": [],
   "source": [
    "# Папка для сохранения весов лучшей модели при обучении (исп-ся в ModelCheckpoint в функции callbacks)\n",
    "#PATH_TEMP_MODEL = '/models/temp_best_model'\n",
    "\n",
    "# if not os.path.exists(PATH_TEMP_MODEL):\n",
    "#     os.mkdir(PATH_TEMP_MODEL)    \n",
    "\n",
    "if not os.path.exists(PATH_FOR_MODEL):\n",
    "    os.mkdir(PATH_FOR_MODEL) \n",
    "    \n",
    "#from utils.models_utils import f1, callbacks, reset_random_seeds\n",
    "#from utils import figures \n",
    "\n",
    "# Импортируем модели\n",
    "#from models.models import ModelSimpleRNN, ModelLSTM"
   ]
  },
  {
   "cell_type": "code",
   "execution_count": 7,
   "metadata": {},
   "outputs": [],
   "source": [
    "import random\n",
    "\n",
    "# Fix seed\n",
    "seed_value = config.seed_value\n",
    "os.environ['PYTHONHASHSEED'] = str(seed_value)\n",
    "\n",
    "# 1. Установим начальное значение для генератора случайных чисел в Python\n",
    "random.seed(seed_value)\n",
    "\n",
    "# 2. Установим начальное значение для генератора случайных чисел в Numpy\n",
    "np.random.seed(seed_value)\n",
    "\n",
    "# 3. Установим начальное значение для генератора случайных чисел в tensorflow \n",
    "tf.random.set_seed(seed_value)\n"
   ]
  },
  {
   "attachments": {},
   "cell_type": "markdown",
   "metadata": {},
   "source": [
    "Задача: мультиклассовая классификация “распознавания жестов”.  \n",
    "Построить классификационную модель, которая по показаниям от датчиков будет определять жест, выполненный пользователем протеза во время записи данных, что отражено в значении целевой переменной.\n",
    "\n",
    "* X_train.npy - обучающая выборка имеющая размерности \"наблюдения, датчики, время\"\n",
    "* X_test.npy - тестоваая выборка имеющая размерности \"наблюдения, датчики, время\"\n",
    "* y_train.npy - целевая переменная для обучающей выборки, которая содержит следующие классы:\n",
    "\n",
    "| Номер <br> класса | Описание |\n",
    "| :---: | :--- |\n",
    "| \"0\"  |  жест \"open\" |\n",
    "| \"1\"  |  сгиб мизинца |\n",
    "| \"2\"  |  сгиб безымянного пальца |\n",
    "| \"3\"  |  сгиб среднего пальца |\n",
    "| \"4\"  |  сгиб жеста \"пистолет\" |\n",
    "| \"5\"  |  сгиб указательного пальца |\n",
    "| \"6\"  |  сгиб большого пальца |\n",
    "| \"7\"  |  жест \"ok\" |\n",
    "| \"8\"  |  жест \"grab\" |\n"
   ]
  },
  {
   "cell_type": "code",
   "execution_count": 5,
   "metadata": {},
   "outputs": [],
   "source": [
    "# библиотеки машинного обучения\n",
    "import tensorflow as tf\n",
    "from tensorflow import keras\n",
    "#from keras import backend as K\n",
    "#from keras.callbacks import ModelCheckpoint, EarlyStopping, ReduceLROnPlateau\n",
    "from keras import layers"
   ]
  },
  {
   "cell_type": "code",
   "execution_count": null,
   "metadata": {},
   "outputs": [],
   "source": [
    "#загрузка обучающей выборки и меток классов\n",
    "X_train = np.load(os.path.join(PATH, 'X_train.npy'))\n",
    "y_train = pd.read_csv(os.path.join(PATH, 'y_train.csv'), sep='[-,]' , index_col='Id',  engine='python').reset_index(drop = True)\n",
    "\n",
    "\n",
    "#загрузка тестовой выборки\n",
    "X_test = np.load(os.path.join(PATH, 'X_test.npy'))\n",
    "\n",
    "print(f\"Размерность файла 'X_train': {X_train.shape}. Размерность: наблюдения, датчики, время\")\n",
    "print(f\"Размерность файла 'y_train': {y_train.shape}. Размерность: наблюдения, время\")"
   ]
  }
 ],
 "metadata": {
  "kernelspec": {
   "display_name": "Python 3.10.7 64-bit",
   "language": "python",
   "name": "python3"
  },
  "language_info": {
   "codemirror_mode": {
    "name": "ipython",
    "version": 3
   },
   "file_extension": ".py",
   "mimetype": "text/x-python",
   "name": "python",
   "nbconvert_exporter": "python",
   "pygments_lexer": "ipython3",
   "version": "3.10.7"
  },
  "orig_nbformat": 4,
  "vscode": {
   "interpreter": {
    "hash": "26de051ba29f2982a8de78e945f0abaf191376122a1563185a90213a26c5da77"
   }
  }
 },
 "nbformat": 4,
 "nbformat_minor": 2
}
